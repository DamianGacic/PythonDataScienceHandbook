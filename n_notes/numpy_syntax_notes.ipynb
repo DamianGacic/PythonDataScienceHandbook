{
 "cells": [
  {
   "cell_type": "code",
   "execution_count": 3,
   "metadata": {},
   "outputs": [],
   "source": [
    "import numpy as np"
   ]
  },
  {
   "cell_type": "code",
   "execution_count": null,
   "metadata": {},
   "outputs": [],
   "source": [
    "x = np.arange(10)\n",
    "\n",
    "x[::-1]  # all elements, reversed\n",
    "x[::2]  # every other element\n",
    "x[1::2]  # every other element, starting at index 1"
   ]
  },
  {
   "cell_type": "code",
   "execution_count": 10,
   "metadata": {},
   "outputs": [
    {
     "name": "stdout",
     "output_type": "stream",
     "text": [
      "[[4 9 5 2]\n",
      " [0 3 2 2]\n",
      " [2 5 1 6]]\n",
      "[[99  9]\n",
      " [ 0  3]]\n",
      "[[99  9  5  2]\n",
      " [ 0  3  2  2]\n",
      " [ 2  5  1  6]]\n"
     ]
    },
    {
     "data": {
      "text/plain": [
       "array([[5],\n",
       "       [2],\n",
       "       [0]])"
      ]
     },
     "execution_count": 10,
     "metadata": {},
     "output_type": "execute_result"
    }
   ],
   "source": [
    "# 2d indexing\n",
    "x2 = np.random.randint(10, size=(3, 4)) \n",
    "\n",
    "print(x2)\n",
    "\n",
    "x2[::-1, :] #reverse outer, (or leftmost/higher dimension)\n",
    "x2[:, ::-1] #reverse inner\n",
    "\n",
    "x2_sub = x2[:2, :2] #modifying subarrays changes the underlying array\n",
    "x2_sub[0, 0] = 99\n",
    "print(x2_sub)\n",
    "print(x2)\n",
    "x2_sub_copy = x2[:2, :2].copy() #safe way to create a copy and not alter the original\n",
    "\n",
    "x = np.random.randint(10,size=(3))\n",
    "# reshaping can be done with .reshape or .newaxis\n",
    "x.reshape((1, 3)) # equivalent: x[np.newaxis, :]\n",
    "x.reshape((3, 1)) # equivalent: x[:, np.newaxis]"
   ]
  },
  {
   "cell_type": "code",
   "execution_count": 50,
   "metadata": {},
   "outputs": [
    {
     "name": "stdout",
     "output_type": "stream",
     "text": [
      "[1 2 3] [9 7 3 2] [1 7 6]\n",
      "[1 2 3 9 7] [3 2] [1 7 6]\n"
     ]
    },
    {
     "data": {
      "text/plain": [
       "array([[ 1,  2,  3,  4,  5],\n",
       "       [ 2,  4,  6,  8, 10],\n",
       "       [ 3,  6,  9, 12, 15],\n",
       "       [ 4,  8, 12, 16, 20],\n",
       "       [ 5, 10, 15, 20, 25]])"
      ]
     },
     "execution_count": 50,
     "metadata": {},
     "output_type": "execute_result"
    }
   ],
   "source": [
    "grid = np.array([[1, 2, 3],\n",
    "                 [4, 5, 6],\n",
    "                 ])\n",
    "grid2 = np.array([[1, 2, 3],\n",
    "                 [4, 5, 6],\n",
    "                 [7, 8, 9]])\n",
    "np.concatenate([grid, grid2], axis=0) #concat the outermost arrays  must have a matching size per element\n",
    "# concatenate along the second axis (zero-indexed)\n",
    "#np.concatenate([grid, grid], axis=1) concat the lower dimension arrays within the outer arrays.  must have a matching number of elements and sizes\n",
    "\n",
    "x = [1, 2, 3, 9, 7, 3, 2, 1, 7, 6]  #np.split to split into uneven arrays. otherwise reshape will do\n",
    "x1, x2, x3 = np.split(x, [3, 7])\n",
    "print(x1, x2, x3)\n",
    "x1, x2, x3 = np.split(x, [5, 7])\n",
    "print(x1, x2, x3)\n",
    "\n",
    "\n",
    "y = np.empty(5) ## empty means uninitialised!!!\n",
    "\n",
    "y = np.zeros(20)\n",
    "np.power(2, x, out=y[::2]) ## combining ufuncs and array views example\n",
    "\n",
    "np.add.reduce(x) # sum\n",
    "np.add.accumulate(x) # every step til sum\n",
    "np.multiply.reduce(x) # product\n",
    "np.multiply.accumulate(x) # every step til product\n",
    "\n",
    "x = np.arange(1, 6)\n",
    "np.multiply.outer(x, x) ## ufunc multiplication table       !?"
   ]
  }
 ],
 "metadata": {
  "kernelspec": {
   "display_name": "Python 3",
   "language": "python",
   "name": "python3"
  },
  "language_info": {
   "codemirror_mode": {
    "name": "ipython",
    "version": 3
   },
   "file_extension": ".py",
   "mimetype": "text/x-python",
   "name": "python",
   "nbconvert_exporter": "python",
   "pygments_lexer": "ipython3",
   "version": "3.10.13"
  }
 },
 "nbformat": 4,
 "nbformat_minor": 2
}
