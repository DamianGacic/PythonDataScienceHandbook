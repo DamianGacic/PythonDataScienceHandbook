{
 "cells": [
  {
   "cell_type": "code",
   "execution_count": null,
   "metadata": {},
   "outputs": [],
   "source": [
    "#TIME AND MEMORY PROFILING COMMANDS + some basic shell stuff for IPython"
   ]
  },
  {
   "cell_type": "code",
   "execution_count": null,
   "metadata": {},
   "outputs": [],
   "source": [
    "#output = %sx (shell commands)     IPython command to capture terminal input"
   ]
  },
  {
   "cell_type": "code",
   "execution_count": null,
   "metadata": {},
   "outputs": [],
   "source": [
    "# TIME PROFILING \n",
    "#output = %sx pwd     IPython command to capture terminal input\n",
    "\n",
    "# %time for single runs, %timeit for averaged results, %prun for timing functions or programs in context, \n",
    "# meaning timing the execution time and the amount of executions in 1 call to the function.\n",
    "\n",
    "# pip install line_profiler, then %load_ext line_profiler for lprun\n",
    "\n",
    "#%lrpun: gives timing of function line by line\n",
    "\n",
    "#example:\n",
    "#      Hits                Time   Per Hit   % Time  Line Contents\n",
    "# ==============================================================\n",
    "#      1                                           def sum_of_lists(N):\n",
    "#      2         1        651.0    651.0      0.0      total = 0\n",
    "#      3         6       2333.0    388.8      0.0      for i in range(5):\n",
    "#      4         5    5248502.0    1e+06     97.0          L = [j ^ (j >> i) for j in range(N)]\n",
    "#      5         5     157913.0  31582.6      2.9          total += sum(L)\n",
    "#      6         1        141.0    141.0      0.0      return total\n",
    "\n",
    "#%memit\n",
    "#pip install memory profiler, %load_ext memory_profiler\n",
    "#%mprun\n",
    "#"
   ]
  }
 ],
 "metadata": {
  "kernelspec": {
   "display_name": "Python 3",
   "language": "python",
   "name": "python3"
  },
  "language_info": {
   "codemirror_mode": {
    "name": "ipython",
    "version": 3
   },
   "file_extension": ".py",
   "mimetype": "text/x-python",
   "name": "python",
   "nbconvert_exporter": "python",
   "pygments_lexer": "ipython3",
   "version": "3.10.13"
  }
 },
 "nbformat": 4,
 "nbformat_minor": 2
}
